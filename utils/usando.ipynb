{
 "cells": [
  {
   "cell_type": "code",
   "execution_count": 4,
   "metadata": {},
   "outputs": [],
   "source": [
    "import DataDownload\n",
    "import importlib"
   ]
  },
  {
   "cell_type": "markdown",
   "metadata": {},
   "source": [
    "### Baixando fundo"
   ]
  },
  {
   "cell_type": "code",
   "execution_count": 20,
   "metadata": {},
   "outputs": [
    {
     "name": "stderr",
     "output_type": "stream",
     "text": [
      "/home/marcel/outros/ckrepo/analyzeBRfunds/utils/DataDownload.py:48: UserWarning: File /home/marcel/outros/finance-fundos/DemoDownloads/201901.csv skipped since already exists.\n",
      "  \n",
      "/home/marcel/outros/ckrepo/analyzeBRfunds/utils/DataDownload.py:48: UserWarning: File /home/marcel/outros/finance-fundos/DemoDownloads/201902.csv skipped since already exists.\n",
      "  \n"
     ]
    },
    {
     "data": {
      "text/plain": [
       "['/home/marcel/outros/finance-fundos/DemoDownloads/201901.csv',\n",
       " '/home/marcel/outros/finance-fundos/DemoDownloads/201902.csv',\n",
       " '/home/marcel/outros/finance-fundos/DemoDownloads/201903.csv']"
      ]
     },
     "execution_count": 20,
     "metadata": {},
     "output_type": "execute_result"
    }
   ],
   "source": [
    "(\n",
    "    DataDownload.download_data([2019, 1], [2019, 3], outpath=\"/home/marcel/outros/finance-fundos/DemoDownloads\")\n",
    ")"
   ]
  },
  {
   "cell_type": "markdown",
   "metadata": {},
   "source": [
    "### Baixando IBOVESPA"
   ]
  },
  {
   "cell_type": "code",
   "execution_count": 21,
   "metadata": {},
   "outputs": [
    {
     "data": {
      "text/html": [
       "<div>\n",
       "<style scoped>\n",
       "    .dataframe tbody tr th:only-of-type {\n",
       "        vertical-align: middle;\n",
       "    }\n",
       "\n",
       "    .dataframe tbody tr th {\n",
       "        vertical-align: top;\n",
       "    }\n",
       "\n",
       "    .dataframe thead th {\n",
       "        text-align: right;\n",
       "    }\n",
       "</style>\n",
       "<table border=\"1\" class=\"dataframe\">\n",
       "  <thead>\n",
       "    <tr style=\"text-align: right;\">\n",
       "      <th></th>\n",
       "      <th>Date</th>\n",
       "      <th>Name</th>\n",
       "      <th>Value</th>\n",
       "    </tr>\n",
       "  </thead>\n",
       "  <tbody>\n",
       "    <tr>\n",
       "      <th>0</th>\n",
       "      <td>2017-01-02</td>\n",
       "      <td>IBOV</td>\n",
       "      <td>59589.0</td>\n",
       "    </tr>\n",
       "    <tr>\n",
       "      <th>1</th>\n",
       "      <td>2017-01-03</td>\n",
       "      <td>IBOV</td>\n",
       "      <td>61814.0</td>\n",
       "    </tr>\n",
       "    <tr>\n",
       "      <th>2</th>\n",
       "      <td>2017-01-04</td>\n",
       "      <td>IBOV</td>\n",
       "      <td>61589.0</td>\n",
       "    </tr>\n",
       "    <tr>\n",
       "      <th>3</th>\n",
       "      <td>2017-01-05</td>\n",
       "      <td>IBOV</td>\n",
       "      <td>62071.0</td>\n",
       "    </tr>\n",
       "    <tr>\n",
       "      <th>4</th>\n",
       "      <td>2017-01-06</td>\n",
       "      <td>IBOV</td>\n",
       "      <td>61665.0</td>\n",
       "    </tr>\n",
       "    <tr>\n",
       "      <th>...</th>\n",
       "      <td>...</td>\n",
       "      <td>...</td>\n",
       "      <td>...</td>\n",
       "    </tr>\n",
       "    <tr>\n",
       "      <th>1230</th>\n",
       "      <td>2021-12-23</td>\n",
       "      <td>IBOV</td>\n",
       "      <td>104891.0</td>\n",
       "    </tr>\n",
       "    <tr>\n",
       "      <th>1231</th>\n",
       "      <td>2021-12-27</td>\n",
       "      <td>IBOV</td>\n",
       "      <td>105531.0</td>\n",
       "    </tr>\n",
       "    <tr>\n",
       "      <th>1232</th>\n",
       "      <td>2021-12-28</td>\n",
       "      <td>IBOV</td>\n",
       "      <td>104864.0</td>\n",
       "    </tr>\n",
       "    <tr>\n",
       "      <th>1233</th>\n",
       "      <td>2021-12-29</td>\n",
       "      <td>IBOV</td>\n",
       "      <td>104107.0</td>\n",
       "    </tr>\n",
       "    <tr>\n",
       "      <th>1234</th>\n",
       "      <td>2021-12-30</td>\n",
       "      <td>IBOV</td>\n",
       "      <td>104822.0</td>\n",
       "    </tr>\n",
       "  </tbody>\n",
       "</table>\n",
       "<p>1235 rows × 3 columns</p>\n",
       "</div>"
      ],
      "text/plain": [
       "           Date  Name     Value\n",
       "0    2017-01-02  IBOV   59589.0\n",
       "1    2017-01-03  IBOV   61814.0\n",
       "2    2017-01-04  IBOV   61589.0\n",
       "3    2017-01-05  IBOV   62071.0\n",
       "4    2017-01-06  IBOV   61665.0\n",
       "...         ...   ...       ...\n",
       "1230 2021-12-23  IBOV  104891.0\n",
       "1231 2021-12-27  IBOV  105531.0\n",
       "1232 2021-12-28  IBOV  104864.0\n",
       "1233 2021-12-29  IBOV  104107.0\n",
       "1234 2021-12-30  IBOV  104822.0\n",
       "\n",
       "[1235 rows x 3 columns]"
      ]
     },
     "execution_count": 21,
     "metadata": {},
     "output_type": "execute_result"
    }
   ],
   "source": [
    "(\n",
    "    DataDownload.download_data(\n",
    "        first_date=[2017,1,1], last_date=[2021,12,31],\n",
    "        asset=\"IBOVESPA\", outpath=\"/home/marcel/outros/finance-fundos/DemoDownloads/IBOV_2017_2021.csv\"\n",
    "    )\n",
    ")"
   ]
  },
  {
   "cell_type": "markdown",
   "metadata": {},
   "source": [
    "### Baixando Risk-Free"
   ]
  },
  {
   "cell_type": "code",
   "execution_count": 31,
   "metadata": {},
   "outputs": [],
   "source": [
    "import pandas as pd"
   ]
  },
  {
   "cell_type": "code",
   "execution_count": 32,
   "metadata": {},
   "outputs": [
    {
     "data": {
      "text/plain": [
       "Timestamp('2022-02-21 00:00:00')"
      ]
     },
     "execution_count": 32,
     "metadata": {},
     "output_type": "execute_result"
    }
   ],
   "source": [
    "pd.to_datetime(\"2022/2/21\")"
   ]
  },
  {
   "cell_type": "code",
   "execution_count": 56,
   "metadata": {},
   "outputs": [
    {
     "data": {
      "text/plain": [
       "<module 'DataDownload' from '/home/marcel/outros/ckrepo/analyzeBRfunds/utils/DataDownload.py'>"
      ]
     },
     "execution_count": 56,
     "metadata": {},
     "output_type": "execute_result"
    }
   ],
   "source": [
    "importlib.reload(DataDownload)"
   ]
  },
  {
   "cell_type": "code",
   "execution_count": 57,
   "metadata": {},
   "outputs": [
    {
     "data": {
      "text/html": [
       "<div>\n",
       "<style scoped>\n",
       "    .dataframe tbody tr th:only-of-type {\n",
       "        vertical-align: middle;\n",
       "    }\n",
       "\n",
       "    .dataframe tbody tr th {\n",
       "        vertical-align: top;\n",
       "    }\n",
       "\n",
       "    .dataframe thead th {\n",
       "        text-align: right;\n",
       "    }\n",
       "</style>\n",
       "<table border=\"1\" class=\"dataframe\">\n",
       "  <thead>\n",
       "    <tr style=\"text-align: right;\">\n",
       "      <th></th>\n",
       "      <th>Date</th>\n",
       "      <th>Name</th>\n",
       "      <th>Value</th>\n",
       "    </tr>\n",
       "  </thead>\n",
       "  <tbody>\n",
       "    <tr>\n",
       "      <th>3962</th>\n",
       "      <td>2017-01-02</td>\n",
       "      <td>Risk_free</td>\n",
       "      <td>0.000495</td>\n",
       "    </tr>\n",
       "    <tr>\n",
       "      <th>3963</th>\n",
       "      <td>2017-01-03</td>\n",
       "      <td>Risk_free</td>\n",
       "      <td>0.000494</td>\n",
       "    </tr>\n",
       "    <tr>\n",
       "      <th>3964</th>\n",
       "      <td>2017-01-04</td>\n",
       "      <td>Risk_free</td>\n",
       "      <td>0.000493</td>\n",
       "    </tr>\n",
       "    <tr>\n",
       "      <th>3965</th>\n",
       "      <td>2017-01-05</td>\n",
       "      <td>Risk_free</td>\n",
       "      <td>0.000491</td>\n",
       "    </tr>\n",
       "    <tr>\n",
       "      <th>3966</th>\n",
       "      <td>2017-01-06</td>\n",
       "      <td>Risk_free</td>\n",
       "      <td>0.000491</td>\n",
       "    </tr>\n",
       "    <tr>\n",
       "      <th>...</th>\n",
       "      <td>...</td>\n",
       "      <td>...</td>\n",
       "      <td>...</td>\n",
       "    </tr>\n",
       "    <tr>\n",
       "      <th>5192</th>\n",
       "      <td>2021-12-23</td>\n",
       "      <td>Risk_free</td>\n",
       "      <td>0.000348</td>\n",
       "    </tr>\n",
       "    <tr>\n",
       "      <th>5193</th>\n",
       "      <td>2021-12-27</td>\n",
       "      <td>Risk_free</td>\n",
       "      <td>0.000348</td>\n",
       "    </tr>\n",
       "    <tr>\n",
       "      <th>5194</th>\n",
       "      <td>2021-12-28</td>\n",
       "      <td>Risk_free</td>\n",
       "      <td>0.000347</td>\n",
       "    </tr>\n",
       "    <tr>\n",
       "      <th>5195</th>\n",
       "      <td>2021-12-29</td>\n",
       "      <td>Risk_free</td>\n",
       "      <td>0.000348</td>\n",
       "    </tr>\n",
       "    <tr>\n",
       "      <th>5196</th>\n",
       "      <td>2021-12-30</td>\n",
       "      <td>Risk_free</td>\n",
       "      <td>0.000347</td>\n",
       "    </tr>\n",
       "  </tbody>\n",
       "</table>\n",
       "<p>1235 rows × 3 columns</p>\n",
       "</div>"
      ],
      "text/plain": [
       "            Date       Name     Value\n",
       "3962  2017-01-02  Risk_free  0.000495\n",
       "3963  2017-01-03  Risk_free  0.000494\n",
       "3964  2017-01-04  Risk_free  0.000493\n",
       "3965  2017-01-05  Risk_free  0.000491\n",
       "3966  2017-01-06  Risk_free  0.000491\n",
       "...          ...        ...       ...\n",
       "5192  2021-12-23  Risk_free  0.000348\n",
       "5193  2021-12-27  Risk_free  0.000348\n",
       "5194  2021-12-28  Risk_free  0.000347\n",
       "5195  2021-12-29  Risk_free  0.000348\n",
       "5196  2021-12-30  Risk_free  0.000347\n",
       "\n",
       "[1235 rows x 3 columns]"
      ]
     },
     "execution_count": 57,
     "metadata": {},
     "output_type": "execute_result"
    }
   ],
   "source": [
    "(\n",
    "    DataDownload.download_data(\n",
    "        first_date=[2017,1,1], last_date=[2021,12,31],\n",
    "        asset=\"RISK-FREE\", outpath=\"/home/marcel/outros/finance-fundos/DemoDownloads/RF_2017_2021.csv\"\n",
    "    )\n",
    ")"
   ]
  },
  {
   "cell_type": "code",
   "execution_count": 55,
   "metadata": {},
   "outputs": [
    {
     "data": {
      "text/plain": [
       "0       2001-01-02\n",
       "1       2001-01-03\n",
       "2       2001-01-04\n",
       "3       2001-01-05\n",
       "4       2001-01-08\n",
       "           ...    \n",
       "5213    2022-01-25\n",
       "5214    2022-01-26\n",
       "5215    2022-01-27\n",
       "5216    2022-01-28\n",
       "5217    2022-01-31\n",
       "Length: 5218, dtype: object"
      ]
     },
     "execution_count": 55,
     "metadata": {},
     "output_type": "execute_result"
    }
   ],
   "source": [
    "pd.to_datetime(asl[\"year\"] + \"/\" + asl[\"month\"] + \"/\" + asl[\"day\"]).dt.date"
   ]
  }
 ],
 "metadata": {
  "interpreter": {
   "hash": "9d56a7e1797460409535a3a0d8e4ae4b46023501d1397e758a74e9704f8329c3"
  },
  "kernelspec": {
   "display_name": "Python 3.9.7 ('ngeral')",
   "language": "python",
   "name": "python3"
  },
  "language_info": {
   "codemirror_mode": {
    "name": "ipython",
    "version": 3
   },
   "file_extension": ".py",
   "mimetype": "text/x-python",
   "name": "python",
   "nbconvert_exporter": "python",
   "pygments_lexer": "ipython3",
   "version": "3.9.7"
  },
  "orig_nbformat": 4
 },
 "nbformat": 4,
 "nbformat_minor": 2
}
