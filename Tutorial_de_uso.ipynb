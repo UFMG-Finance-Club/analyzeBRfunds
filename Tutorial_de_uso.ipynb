{
  "cells": [
    {
      "cell_type": "markdown",
      "metadata": {
        "id": "TmkI3vBsouSP"
      },
      "source": [
        "## Configurações iniciais\n",
        "Repetir todas as vezes no Colab. Na sua máquina, apenas uma."
      ]
    },
    {
      "cell_type": "code",
      "execution_count": 8,
      "metadata": {
        "colab": {
          "base_uri": "https://localhost:8080/"
        },
        "id": "rqDuBsTHnNE0",
        "outputId": "e36efb1d-85ea-4535-d4d8-2fbe380ab1f8"
      },
      "outputs": [
        {
          "name": "stdout",
          "output_type": "stream",
          "text": [
            "fatal: destination path 'analyzeBRfunds' already exists and is not an empty directory.\n"
          ]
        }
      ],
      "source": [
        "!git clone https://github.com/UFMG-Finance-Club/analyzeBRfunds.git"
      ]
    },
    {
      "cell_type": "code",
      "execution_count": 62,
      "metadata": {
        "colab": {
          "base_uri": "https://localhost:8080/"
        },
        "id": "XKzq5EqL0DW5",
        "outputId": "159e58da-1ac4-4ecd-b9f7-d40478b6332a"
      },
      "outputs": [
        {
          "name": "stdout",
          "output_type": "stream",
          "text": [
            "remote: Enumerating objects: 7, done.\u001b[K\n",
            "remote: Counting objects:  14% (1/7)\u001b[K\rremote: Counting objects:  28% (2/7)\u001b[K\rremote: Counting objects:  42% (3/7)\u001b[K\rremote: Counting objects:  57% (4/7)\u001b[K\rremote: Counting objects:  71% (5/7)\u001b[K\rremote: Counting objects:  85% (6/7)\u001b[K\rremote: Counting objects: 100% (7/7)\u001b[K\rremote: Counting objects: 100% (7/7), done.\u001b[K\n",
            "remote: Compressing objects: 100% (1/1)\u001b[K\rremote: Compressing objects: 100% (1/1), done.\u001b[K\n",
            "remote: Total 4 (delta 2), reused 4 (delta 2), pack-reused 0\u001b[K\n",
            "Unpacking objects:  25% (1/4)   \rUnpacking objects:  50% (2/4)   \rUnpacking objects:  75% (3/4)   \rUnpacking objects: 100% (4/4)   \rUnpacking objects: 100% (4/4), done.\n",
            "From https://github.com/UFMG-Finance-Club/analyzeBRfunds\n",
            "   02d05ab..7ce91fd  develop    -> origin/develop\n",
            "Updating 02d05ab..7ce91fd\n",
            "Fast-forward\n",
            " preprocess/DataClean.py | 2 \u001b[32m+\u001b[m\u001b[31m-\u001b[m\n",
            " 1 file changed, 1 insertion(+), 1 deletion(-)\n"
          ]
        }
      ],
      "source": [
        "!cd /content/analyzeBRfunds && git pull"
      ]
    },
    {
      "cell_type": "code",
      "execution_count": 2,
      "metadata": {
        "colab": {
          "base_uri": "https://localhost:8080/"
        },
        "id": "-kGZMkinoGPZ",
        "outputId": "10e276d2-d272-4964-8610-75af704c834c"
      },
      "outputs": [
        {
          "name": "stdout",
          "output_type": "stream",
          "text": [
            "Branch 'develop' set up to track remote branch 'develop' from 'origin'.\n",
            "Switched to a new branch 'develop'\n"
          ]
        }
      ],
      "source": [
        "!cd /content/analyzeBRfunds && git checkout develop"
      ]
    },
    {
      "cell_type": "code",
      "execution_count": 3,
      "metadata": {
        "colab": {
          "base_uri": "https://localhost:8080/"
        },
        "id": "XoWnQZmcoXcr",
        "outputId": "5ddef04b-3d91-44c1-d9f3-712bb45cc359"
      },
      "outputs": [
        {
          "name": "stdout",
          "output_type": "stream",
          "text": [
            "Requirement already satisfied: dask[dataframe] in /usr/local/lib/python3.7/dist-packages (2.12.0)\n",
            "Collecting partd>=0.3.10\n",
            "  Downloading partd-1.2.0-py3-none-any.whl (19 kB)\n",
            "Requirement already satisfied: pandas>=0.23.0 in /usr/local/lib/python3.7/dist-packages (from dask[dataframe]) (1.3.5)\n",
            "Requirement already satisfied: numpy>=1.13.0 in /usr/local/lib/python3.7/dist-packages (from dask[dataframe]) (1.21.5)\n",
            "Requirement already satisfied: toolz>=0.7.3 in /usr/local/lib/python3.7/dist-packages (from dask[dataframe]) (0.11.2)\n",
            "Collecting fsspec>=0.6.0\n",
            "  Downloading fsspec-2022.2.0-py3-none-any.whl (134 kB)\n",
            "\u001b[K     |████████████████████████████████| 134 kB 7.1 MB/s \n",
            "\u001b[?25hRequirement already satisfied: pytz>=2017.3 in /usr/local/lib/python3.7/dist-packages (from pandas>=0.23.0->dask[dataframe]) (2018.9)\n",
            "Requirement already satisfied: python-dateutil>=2.7.3 in /usr/local/lib/python3.7/dist-packages (from pandas>=0.23.0->dask[dataframe]) (2.8.2)\n",
            "Collecting locket\n",
            "  Downloading locket-0.2.1-py2.py3-none-any.whl (4.1 kB)\n",
            "Requirement already satisfied: six>=1.5 in /usr/local/lib/python3.7/dist-packages (from python-dateutil>=2.7.3->pandas>=0.23.0->dask[dataframe]) (1.15.0)\n",
            "Installing collected packages: locket, partd, fsspec\n",
            "Successfully installed fsspec-2022.2.0 locket-0.2.1 partd-1.2.0\n"
          ]
        }
      ],
      "source": [
        "!pip install dask[dataframe]"
      ]
    },
    {
      "cell_type": "code",
      "execution_count": 4,
      "metadata": {
        "id": "ybcwUU_SnWK0"
      },
      "outputs": [],
      "source": [
        "import sys\n",
        "sys.path.insert(0,'/content/analyzeBRfunds')"
      ]
    },
    {
      "cell_type": "markdown",
      "metadata": {
        "id": "rSrOQ9igo1oB"
      },
      "source": [
        "# Iniciando código"
      ]
    },
    {
      "cell_type": "markdown",
      "metadata": {
        "id": "HikwbjW7o8rq"
      },
      "source": [
        "## DataDownload\n",
        "\n",
        "O módulo DataDownload fornece utilitários para download de dados de fundos da Anbima, IBOVESPA e Risk-Free (obtido do NEFIN). \n",
        "\n",
        "### Download de fundos\n",
        "Para o download de fundos, é necessário especificar os anos e meses iniciais e finais, além do diretório em que os arquivos serão gravados. Os dados são obtidos diretamente da [página da CVM](http://dados.cvm.gov.br/dados/FI/DOC/INF_DIARIO/DADOS/), e nenhuma transformação é aplicada.\n",
        "\n",
        "No código abaixo, baixamos dados referentes aos anos de 2017 a 2021:\n",
        "\n"
      ]
    },
    {
      "cell_type": "code",
      "execution_count": 5,
      "metadata": {
        "id": "RmXU8p6QpaOz"
      },
      "outputs": [],
      "source": [
        "from analyzeBRfunds.utils import DataDownload"
      ]
    },
    {
      "cell_type": "code",
      "execution_count": null,
      "metadata": {
        "id": "8ca4vjYLpczy"
      },
      "outputs": [],
      "source": [
        "(\n",
        "    DataDownload.download_funds(\n",
        "        first_date=[2017, 1], last_date=[2022, 1], \n",
        "        outpath=\"/content/drive/MyDrive/data/raw\"\n",
        "    )\n",
        ")"
      ]
    },
    {
      "cell_type": "markdown",
      "metadata": {
        "id": "CBiqo85PpCAL"
      },
      "source": [
        "## DataClean\n",
        "\n",
        "Com o módulo DataClean podemos aplicar alguns tratamentos na base de fundos, e reduzi-los através de determinados critérios.\n",
        "\n",
        "No exemplo abaixo, vamos considerar dois deles:\n",
        "\n",
        "1. **Merge**: podemos reduzir o universo de fundos das bases a um subconjunto especificado em um arquivo *fundos.csv* que contém uma coluna **CNPJ_FUNDO** com seus respectivos CNPJs (que devem estar apenas com caracteres numéricos).\n",
        "2. **Filter**: podemos aplicar filtros intervalares nos dados. Cada filtro é uma entrada de um dicionário Python. No exemplo abaixo, dizemos que queremos fundos em que a variável *DT_COMPTC* (data) apareça entre [\"2018-01-03\", \"2018-01-03\"], ou seja, estamos mantendo apenas fundos que tenham estado em atividade no dia 03/01/2018. \n",
        "\n",
        "Todas essas transformações podem ser aplicadas de uma só vez usando a função **format_new_data**.\n"
      ]
    },
    {
      "cell_type": "code",
      "execution_count": 24,
      "metadata": {
        "id": "ziNFB6N00K4R"
      },
      "outputs": [],
      "source": [
        "import importlib"
      ]
    },
    {
      "cell_type": "code",
      "execution_count": 3,
      "metadata": {
        "id": "Mq6LgNmwn3bL"
      },
      "outputs": [],
      "source": [
        "from preprocess import DataClean"
      ]
    },
    {
      "cell_type": "code",
      "execution_count": 12,
      "metadata": {
        "colab": {
          "base_uri": "https://localhost:8080/"
        },
        "id": "kjoSWM_MKknR",
        "outputId": "e154c7e1-6bd7-482a-c113-12306f607bbb"
      },
      "outputs": [
        {
          "data": {
            "text/plain": [
              "<module 'preprocess.DataClean' from '/home/marcel/outros/ckrepo/analyzeBRfunds/preprocess/DataClean.py'>"
            ]
          },
          "execution_count": 12,
          "metadata": {},
          "output_type": "execute_result"
        }
      ],
      "source": [
        "importlib.reload(DataClean)"
      ]
    },
    {
      "cell_type": "code",
      "execution_count": 50,
      "metadata": {
        "colab": {
          "base_uri": "https://localhost:8080/"
        },
        "id": "vzBSkF4Uo5nq",
        "outputId": "9ca2b78a-7466-4403-ef25-8d8688eba462"
      },
      "outputs": [
        {
          "data": {
            "text/plain": [
              "<analyzeBRfunds.preprocess.DataClean.Preprocess at 0x7f91bd381dd0>"
            ]
          },
          "execution_count": 50,
          "metadata": {},
          "output_type": "execute_result"
        }
      ],
      "source": [
        "(\n",
        "    DataClean.Preprocess(inpath=\"/content/drive/MyDrive/data/raw\")\n",
        "    .format_new_data(\n",
        "        outpath=\"/content/drive/MyDrive/data/preprocessed/2017_2021.csv\",\n",
        "        inrange_filters=[{\"DT_COMPTC\" : [\"2018-01-03\", \"2018-01-03\"]}],\n",
        "        CNPJ_to_keep_path=\"/content/drive/MyDrive/data/auxiliary/fundos.csv\", sep=\";\"\n",
        "    )\n",
        ")"
      ]
    },
    {
      "cell_type": "markdown",
      "metadata": {
        "id": "qKORJB6IZT76"
      },
      "source": [
        "Essas transformações também podem ser aplicadas separadamente e em momentos posteriores. No exemplo abaixo, leremos a base de novo e aplicaremos um segundo filtro: queremos apenas os fundos em que no dia 03/01/2020 (**DT_COMPTC**) o número de cotistas (**NR_COTST**) tenha sido maior do que 250. Como a base já foi tratada inicialmente, colocaremos o valor *existing* para o argumento *type*."
      ]
    },
    {
      "cell_type": "code",
      "execution_count": 13,
      "metadata": {
        "id": "aybgGpsHZ_fl"
      },
      "outputs": [],
      "source": [
        "import numpy as np\n",
        "\n",
        "prep_obj = (\n",
        "    DataClean.Preprocess(inpath=\"/home/marcel/outros/ckrepo/analyzeBRfunds/data/preprocess/2017_2021.csv\", type=\"existing\")\n",
        "    .apply_filters([{\"DT_COMPTC\" : [\"2020-01-03\", \"2020-01-03\"], \"NR_COTST\" : [250, np.inf]}])\n",
        ")"
      ]
    },
    {
      "cell_type": "markdown",
      "metadata": {
        "id": "b15iaIyFcX3r"
      },
      "source": [
        "O dado gerado pode ser acessado através do atributo *data*:"
      ]
    },
    {
      "cell_type": "code",
      "execution_count": 14,
      "metadata": {
        "colab": {
          "base_uri": "https://localhost:8080/",
          "height": 178
        },
        "id": "voHHGCw1cPna",
        "outputId": "03a801a7-ae7d-4c93-8007-93e2fb2b0a11"
      },
      "outputs": [
        {
          "data": {
            "text/html": [
              "<div><strong>Dask DataFrame Structure:</strong></div>\n",
              "<div>\n",
              "<style scoped>\n",
              "    .dataframe tbody tr th:only-of-type {\n",
              "        vertical-align: middle;\n",
              "    }\n",
              "\n",
              "    .dataframe tbody tr th {\n",
              "        vertical-align: top;\n",
              "    }\n",
              "\n",
              "    .dataframe thead th {\n",
              "        text-align: right;\n",
              "    }\n",
              "</style>\n",
              "<table border=\"1\" class=\"dataframe\">\n",
              "  <thead>\n",
              "    <tr style=\"text-align: right;\">\n",
              "      <th></th>\n",
              "      <th>CNPJ_FUNDO</th>\n",
              "      <th>DT_COMPTC</th>\n",
              "      <th>VL_TOTAL</th>\n",
              "      <th>VL_QUOTA</th>\n",
              "      <th>VL_PATRIM_LIQ</th>\n",
              "      <th>CAPTC_DIA</th>\n",
              "      <th>RESG_DIA</th>\n",
              "      <th>NR_COTST</th>\n",
              "      <th>NOME_FUNDO</th>\n",
              "    </tr>\n",
              "    <tr>\n",
              "      <th>npartitions=1</th>\n",
              "      <th></th>\n",
              "      <th></th>\n",
              "      <th></th>\n",
              "      <th></th>\n",
              "      <th></th>\n",
              "      <th></th>\n",
              "      <th></th>\n",
              "      <th></th>\n",
              "      <th></th>\n",
              "    </tr>\n",
              "  </thead>\n",
              "  <tbody>\n",
              "    <tr>\n",
              "      <th></th>\n",
              "      <td>object</td>\n",
              "      <td>object</td>\n",
              "      <td>float64</td>\n",
              "      <td>float64</td>\n",
              "      <td>float64</td>\n",
              "      <td>float64</td>\n",
              "      <td>float64</td>\n",
              "      <td>float64</td>\n",
              "      <td>object</td>\n",
              "    </tr>\n",
              "    <tr>\n",
              "      <th></th>\n",
              "      <td>...</td>\n",
              "      <td>...</td>\n",
              "      <td>...</td>\n",
              "      <td>...</td>\n",
              "      <td>...</td>\n",
              "      <td>...</td>\n",
              "      <td>...</td>\n",
              "      <td>...</td>\n",
              "      <td>...</td>\n",
              "    </tr>\n",
              "  </tbody>\n",
              "</table>\n",
              "</div>\n",
              "<div>Dask Name: getitem, 5 tasks</div>"
            ],
            "text/plain": [
              "Dask DataFrame Structure:\n",
              "              CNPJ_FUNDO DT_COMPTC VL_TOTAL VL_QUOTA VL_PATRIM_LIQ CAPTC_DIA RESG_DIA NR_COTST NOME_FUNDO\n",
              "npartitions=1                                                                                            \n",
              "                  object    object  float64  float64       float64   float64  float64  float64     object\n",
              "                     ...       ...      ...      ...           ...       ...      ...      ...        ...\n",
              "Dask Name: getitem, 5 tasks"
            ]
          },
          "execution_count": 14,
          "metadata": {},
          "output_type": "execute_result"
        }
      ],
      "source": [
        "prep_obj.data"
      ]
    },
    {
      "cell_type": "markdown",
      "metadata": {
        "id": "6gewDrcNcp9m"
      },
      "source": [
        "Note que é retornado um Dask DataFrame, que é *lazy*. Para visualizar os dados, i.e., computá-los, aplique o método *compute*:"
      ]
    },
    {
      "cell_type": "code",
      "execution_count": 15,
      "metadata": {
        "colab": {
          "base_uri": "https://localhost:8080/",
          "height": 641
        },
        "id": "PQ46U95mcaAR",
        "outputId": "0117fe6f-c5a2-4e49-c6d1-888970c90a48"
      },
      "outputs": [
        {
          "data": {
            "text/html": [
              "<div>\n",
              "<style scoped>\n",
              "    .dataframe tbody tr th:only-of-type {\n",
              "        vertical-align: middle;\n",
              "    }\n",
              "\n",
              "    .dataframe tbody tr th {\n",
              "        vertical-align: top;\n",
              "    }\n",
              "\n",
              "    .dataframe thead th {\n",
              "        text-align: right;\n",
              "    }\n",
              "</style>\n",
              "<table border=\"1\" class=\"dataframe\">\n",
              "  <thead>\n",
              "    <tr style=\"text-align: right;\">\n",
              "      <th></th>\n",
              "      <th>CNPJ_FUNDO</th>\n",
              "      <th>DT_COMPTC</th>\n",
              "      <th>VL_TOTAL</th>\n",
              "      <th>VL_QUOTA</th>\n",
              "      <th>VL_PATRIM_LIQ</th>\n",
              "      <th>CAPTC_DIA</th>\n",
              "      <th>RESG_DIA</th>\n",
              "      <th>NR_COTST</th>\n",
              "      <th>NOME_FUNDO</th>\n",
              "    </tr>\n",
              "  </thead>\n",
              "  <tbody>\n",
              "    <tr>\n",
              "      <th>0</th>\n",
              "      <td>17397804000179</td>\n",
              "      <td>2017-02-01</td>\n",
              "      <td>5.736429e+07</td>\n",
              "      <td>1.612580</td>\n",
              "      <td>5.741913e+07</td>\n",
              "      <td>21033.32</td>\n",
              "      <td>0.00</td>\n",
              "      <td>55.0</td>\n",
              "      <td>Apex Infinity 8 Long Biased Fc FIA</td>\n",
              "    </tr>\n",
              "    <tr>\n",
              "      <th>1</th>\n",
              "      <td>17397804000179</td>\n",
              "      <td>2017-02-02</td>\n",
              "      <td>1.648277e+08</td>\n",
              "      <td>1.615899</td>\n",
              "      <td>1.642899e+08</td>\n",
              "      <td>0.00</td>\n",
              "      <td>0.00</td>\n",
              "      <td>174.0</td>\n",
              "      <td>Apex Infinity 8 Long Biased Fc FIA</td>\n",
              "    </tr>\n",
              "    <tr>\n",
              "      <th>2</th>\n",
              "      <td>17397804000179</td>\n",
              "      <td>2017-02-03</td>\n",
              "      <td>1.676777e+08</td>\n",
              "      <td>1.631688</td>\n",
              "      <td>1.658952e+08</td>\n",
              "      <td>0.00</td>\n",
              "      <td>0.00</td>\n",
              "      <td>174.0</td>\n",
              "      <td>Apex Infinity 8 Long Biased Fc FIA</td>\n",
              "    </tr>\n",
              "    <tr>\n",
              "      <th>3</th>\n",
              "      <td>17397804000179</td>\n",
              "      <td>2017-02-06</td>\n",
              "      <td>1.655593e+08</td>\n",
              "      <td>1.621880</td>\n",
              "      <td>1.649049e+08</td>\n",
              "      <td>1087500.00</td>\n",
              "      <td>0.00</td>\n",
              "      <td>173.0</td>\n",
              "      <td>Apex Infinity 8 Long Biased Fc FIA</td>\n",
              "    </tr>\n",
              "    <tr>\n",
              "      <th>4</th>\n",
              "      <td>17397804000179</td>\n",
              "      <td>2017-02-07</td>\n",
              "      <td>1.658283e+08</td>\n",
              "      <td>1.620471</td>\n",
              "      <td>1.647766e+08</td>\n",
              "      <td>15000.00</td>\n",
              "      <td>0.00</td>\n",
              "      <td>173.0</td>\n",
              "      <td>Apex Infinity 8 Long Biased Fc FIA</td>\n",
              "    </tr>\n",
              "    <tr>\n",
              "      <th>...</th>\n",
              "      <td>...</td>\n",
              "      <td>...</td>\n",
              "      <td>...</td>\n",
              "      <td>...</td>\n",
              "      <td>...</td>\n",
              "      <td>...</td>\n",
              "      <td>...</td>\n",
              "      <td>...</td>\n",
              "      <td>...</td>\n",
              "    </tr>\n",
              "    <tr>\n",
              "      <th>270048</th>\n",
              "      <td>09087483000188</td>\n",
              "      <td>2020-09-24</td>\n",
              "      <td>3.902144e+07</td>\n",
              "      <td>2.339143</td>\n",
              "      <td>3.999969e+07</td>\n",
              "      <td>0.00</td>\n",
              "      <td>64216.55</td>\n",
              "      <td>273.0</td>\n",
              "      <td>Wa Dividend Yield FIA</td>\n",
              "    </tr>\n",
              "    <tr>\n",
              "      <th>270049</th>\n",
              "      <td>09087483000188</td>\n",
              "      <td>2020-09-25</td>\n",
              "      <td>3.889399e+07</td>\n",
              "      <td>2.330183</td>\n",
              "      <td>3.983260e+07</td>\n",
              "      <td>0.00</td>\n",
              "      <td>13882.57</td>\n",
              "      <td>272.0</td>\n",
              "      <td>Wa Dividend Yield FIA</td>\n",
              "    </tr>\n",
              "    <tr>\n",
              "      <th>270050</th>\n",
              "      <td>09087483000188</td>\n",
              "      <td>2020-09-28</td>\n",
              "      <td>3.815633e+07</td>\n",
              "      <td>2.275232</td>\n",
              "      <td>3.881881e+07</td>\n",
              "      <td>1074.00</td>\n",
              "      <td>75514.69</td>\n",
              "      <td>271.0</td>\n",
              "      <td>Wa Dividend Yield FIA</td>\n",
              "    </tr>\n",
              "    <tr>\n",
              "      <th>270051</th>\n",
              "      <td>09087483000188</td>\n",
              "      <td>2020-09-29</td>\n",
              "      <td>3.771789e+07</td>\n",
              "      <td>2.250453</td>\n",
              "      <td>3.838186e+07</td>\n",
              "      <td>0.00</td>\n",
              "      <td>14181.91</td>\n",
              "      <td>270.0</td>\n",
              "      <td>Wa Dividend Yield FIA</td>\n",
              "    </tr>\n",
              "    <tr>\n",
              "      <th>270052</th>\n",
              "      <td>09087483000188</td>\n",
              "      <td>2020-09-30</td>\n",
              "      <td>3.832826e+07</td>\n",
              "      <td>2.283130</td>\n",
              "      <td>3.883488e+07</td>\n",
              "      <td>200.00</td>\n",
              "      <td>104495.53</td>\n",
              "      <td>269.0</td>\n",
              "      <td>Wa Dividend Yield FIA</td>\n",
              "    </tr>\n",
              "  </tbody>\n",
              "</table>\n",
              "<p>270053 rows × 9 columns</p>\n",
              "</div>"
            ],
            "text/plain": [
              "            CNPJ_FUNDO   DT_COMPTC      VL_TOTAL  VL_QUOTA  VL_PATRIM_LIQ  \\\n",
              "0       17397804000179  2017-02-01  5.736429e+07  1.612580   5.741913e+07   \n",
              "1       17397804000179  2017-02-02  1.648277e+08  1.615899   1.642899e+08   \n",
              "2       17397804000179  2017-02-03  1.676777e+08  1.631688   1.658952e+08   \n",
              "3       17397804000179  2017-02-06  1.655593e+08  1.621880   1.649049e+08   \n",
              "4       17397804000179  2017-02-07  1.658283e+08  1.620471   1.647766e+08   \n",
              "...                ...         ...           ...       ...            ...   \n",
              "270048  09087483000188  2020-09-24  3.902144e+07  2.339143   3.999969e+07   \n",
              "270049  09087483000188  2020-09-25  3.889399e+07  2.330183   3.983260e+07   \n",
              "270050  09087483000188  2020-09-28  3.815633e+07  2.275232   3.881881e+07   \n",
              "270051  09087483000188  2020-09-29  3.771789e+07  2.250453   3.838186e+07   \n",
              "270052  09087483000188  2020-09-30  3.832826e+07  2.283130   3.883488e+07   \n",
              "\n",
              "         CAPTC_DIA   RESG_DIA  NR_COTST                          NOME_FUNDO  \n",
              "0         21033.32       0.00      55.0  Apex Infinity 8 Long Biased Fc FIA  \n",
              "1             0.00       0.00     174.0  Apex Infinity 8 Long Biased Fc FIA  \n",
              "2             0.00       0.00     174.0  Apex Infinity 8 Long Biased Fc FIA  \n",
              "3       1087500.00       0.00     173.0  Apex Infinity 8 Long Biased Fc FIA  \n",
              "4         15000.00       0.00     173.0  Apex Infinity 8 Long Biased Fc FIA  \n",
              "...            ...        ...       ...                                 ...  \n",
              "270048        0.00   64216.55     273.0               Wa Dividend Yield FIA  \n",
              "270049        0.00   13882.57     272.0               Wa Dividend Yield FIA  \n",
              "270050     1074.00   75514.69     271.0               Wa Dividend Yield FIA  \n",
              "270051        0.00   14181.91     270.0               Wa Dividend Yield FIA  \n",
              "270052      200.00  104495.53     269.0               Wa Dividend Yield FIA  \n",
              "\n",
              "[270053 rows x 9 columns]"
            ]
          },
          "execution_count": 15,
          "metadata": {},
          "output_type": "execute_result"
        }
      ],
      "source": [
        "prep_obj.data.compute()"
      ]
    },
    {
      "cell_type": "markdown",
      "metadata": {
        "id": "tufkJpEIcy9a"
      },
      "source": [
        "Naturalmente, também podemos escrevê-lo em algum arquivo:"
      ]
    },
    {
      "cell_type": "code",
      "execution_count": 16,
      "metadata": {
        "colab": {
          "base_uri": "https://localhost:8080/",
          "height": 432
        },
        "id": "g1aUDjNTcyAi",
        "outputId": "3aa9447e-452d-4048-a399-304edea589e9"
      },
      "outputs": [
        {
          "data": {
            "text/plain": [
              "<preprocess.DataClean.Preprocess at 0x7f22de9940a0>"
            ]
          },
          "execution_count": 16,
          "metadata": {},
          "output_type": "execute_result"
        }
      ],
      "source": [
        "prep_obj.write(outpath=\"/home/marcel/outros/ckrepo/analyzeBRfunds/data/preprocess/2017_2021.csv\")"
      ]
    },
    {
      "cell_type": "markdown",
      "metadata": {
        "id": "PyUt22cOQqs2"
      },
      "source": [
        "## Analisando performance"
      ]
    },
    {
      "cell_type": "markdown",
      "metadata": {},
      "source": [
        "Com o utilitário FinancialMetrics podemos facilmente obter retornos e estimar alfas e betas."
      ]
    },
    {
      "cell_type": "code",
      "execution_count": 1,
      "metadata": {
        "id": "TP2EWg_nIVcf"
      },
      "outputs": [],
      "source": [
        "from metrics import FinancialMetrics\n",
        "\n",
        "fin_metrics = (\n",
        "    FinancialMetrics.PerformanceMetrics(\n",
        "        inpath=\"/home/marcel/outros/ckrepo/analyzeBRfunds/data/preprocess/2017_2021.csv\",\n",
        "        first_date=[2017,1,1], last_date=[2021,12,30]\n",
        "    )\n",
        ")"
      ]
    },
    {
      "cell_type": "markdown",
      "metadata": {
        "id": "Oe7N5gLqQjWk"
      },
      "source": [
        "Podemos obter retornos através do atributo **returns_data**:"
      ]
    },
    {
      "cell_type": "code",
      "execution_count": 6,
      "metadata": {},
      "outputs": [],
      "source": [
        "artwds = fin_metrics.returns_data.std().to_frame(name=\"std\")"
      ]
    },
    {
      "cell_type": "code",
      "execution_count": 10,
      "metadata": {},
      "outputs": [
        {
          "data": {
            "text/plain": [
              "Name\n",
              "00398561000190    0.011483\n",
              "00601692000123    0.017526\n",
              "01063897000165    0.016818\n",
              "01608399000150    0.012932\n",
              "01753087000130    0.013576\n",
              "                    ...   \n",
              "68670512000107    0.000623\n",
              "73232530000139    0.017929\n",
              "88198056000143    0.013777\n",
              "96498654000166    0.008459\n",
              "97261093000140    0.008259\n",
              "Name: 2021-12-30, Length: 217, dtype: float64"
            ]
          },
          "execution_count": 10,
          "metadata": {},
          "output_type": "execute_result"
        }
      ],
      "source": [
        "fin_metrics.returns_data.iloc[-1]"
      ]
    },
    {
      "cell_type": "markdown",
      "metadata": {},
      "source": [
        "Por padrão, o CNPJ é usado como identificador do fundo, mas isso pode ser alterado:"
      ]
    },
    {
      "cell_type": "code",
      "execution_count": 32,
      "metadata": {},
      "outputs": [
        {
          "data": {
            "text/plain": [
              "<module 'metrics.FinancialMetrics' from '/home/marcel/outros/ckrepo/analyzeBRfunds/metrics/FinancialMetrics.py'>"
            ]
          },
          "execution_count": 32,
          "metadata": {},
          "output_type": "execute_result"
        }
      ],
      "source": [
        "importlib.reload(FinancialMetrics)"
      ]
    },
    {
      "cell_type": "code",
      "execution_count": 33,
      "metadata": {},
      "outputs": [],
      "source": [
        "fin_metrics = (\n",
        "    FinancialMetrics.PerformanceMetrics(\n",
        "        inpath=\"/home/marcel/outros/ckrepo/analyzeBRfunds/data/preprocess/2017_2021.csv\",\n",
        "        id_col=\"NOME_FUNDO\", first_date=[2018,1,1], last_date=[2021,12,30]\n",
        "    )\n",
        ")"
      ]
    },
    {
      "cell_type": "markdown",
      "metadata": {},
      "source": [
        "Utilizando os dados de retorno para obter os 5 fundos que melhor perfomaram durante o período de dados:"
      ]
    },
    {
      "cell_type": "code",
      "execution_count": 85,
      "metadata": {},
      "outputs": [
        {
          "data": {
            "text/plain": [
              "<AxesSubplot:xlabel='Date'>"
            ]
          },
          "execution_count": 85,
          "metadata": {},
          "output_type": "execute_result"
        },
        {
          "data": {
            "image/png": "[encoded data removed]",
            "text/plain": [
              "<Figure size 1008x432 with 1 Axes>"
            ]
          },
          "metadata": {},
          "output_type": "display_data"
        }
      ],
      "source": [
        "import matplotlib.pyplot as plt\n",
        "plt.style.use(\"utils/finance_theme.mplstyle\")\n",
        "\n",
        "cumulative_returns = (fin_metrics.returns_data + 1).cumprod() - 1\n",
        "funds_to_plot = (\n",
        "    cumulative_returns\n",
        "    .iloc[-1]\n",
        "    .sort_values(ascending=False)\n",
        ")\n",
        "\n",
        "cumulative_returns.loc[:, cumulative_returns.columns.isin(funds_to_plot.iloc[:5].index)].plot()"
      ]
    },
    {
      "cell_type": "markdown",
      "metadata": {},
      "source": [
        "Podemos incrementar os dados com os preços de fechamento (ajustados) do IBOV (obtido através do Yahoo Finance) e a taxa livre de risco diária (obtida do NEFIN: 30-day DI Swap). "
      ]
    },
    {
      "cell_type": "code",
      "execution_count": 34,
      "metadata": {},
      "outputs": [],
      "source": [
        "fin_metrics.increment_with(\"IBOV\")\n",
        "fin_metrics.increment_with(\"RISK_FREE\", outpath_base=\"data/auxiliary/risk_free.csv\")"
      ]
    },
    {
      "cell_type": "markdown",
      "metadata": {},
      "source": [
        "E que tal olharmos algums métricas, como desvio-padrão e Sharpe?"
      ]
    },
    {
      "cell_type": "code",
      "execution_count": 36,
      "metadata": {},
      "outputs": [
        {
          "data": {
            "text/html": [
              "<div>\n",
              "<style scoped>\n",
              "    .dataframe tbody tr th:only-of-type {\n",
              "        vertical-align: middle;\n",
              "    }\n",
              "\n",
              "    .dataframe tbody tr th {\n",
              "        vertical-align: top;\n",
              "    }\n",
              "\n",
              "    .dataframe thead th {\n",
              "        text-align: right;\n",
              "    }\n",
              "</style>\n",
              "<table border=\"1\" class=\"dataframe\">\n",
              "  <thead>\n",
              "    <tr style=\"text-align: right;\">\n",
              "      <th></th>\n",
              "      <th>std</th>\n",
              "      <th>annualized_std</th>\n",
              "      <th>cumulative_ret</th>\n",
              "      <th>annualized_ret</th>\n",
              "      <th>Sharpe</th>\n",
              "    </tr>\n",
              "    <tr>\n",
              "      <th>Name</th>\n",
              "      <th></th>\n",
              "      <th></th>\n",
              "      <th></th>\n",
              "      <th></th>\n",
              "      <th></th>\n",
              "    </tr>\n",
              "  </thead>\n",
              "  <tbody>\n",
              "    <tr>\n",
              "      <th>4um Marlin Dividendos FIA</th>\n",
              "      <td>0.014108</td>\n",
              "      <td>0.223965</td>\n",
              "      <td>0.419053</td>\n",
              "      <td>0.091916</td>\n",
              "      <td>0.415070</td>\n",
              "    </tr>\n",
              "    <tr>\n",
              "      <th>4um Small Caps FIA</th>\n",
              "      <td>0.014502</td>\n",
              "      <td>0.230216</td>\n",
              "      <td>0.694548</td>\n",
              "      <td>0.141692</td>\n",
              "      <td>0.620017</td>\n",
              "    </tr>\n",
              "    <tr>\n",
              "      <th>ARX Income Fc FIA</th>\n",
              "      <td>0.017103</td>\n",
              "      <td>0.271496</td>\n",
              "      <td>0.657495</td>\n",
              "      <td>0.135368</td>\n",
              "      <td>0.502450</td>\n",
              "    </tr>\n",
              "    <tr>\n",
              "      <th>ARX Long Term Fc FIA</th>\n",
              "      <td>0.017922</td>\n",
              "      <td>0.284511</td>\n",
              "      <td>0.266135</td>\n",
              "      <td>0.061079</td>\n",
              "      <td>0.218356</td>\n",
              "    </tr>\n",
              "    <tr>\n",
              "      <th>Af Invest Minas FIA</th>\n",
              "      <td>0.016262</td>\n",
              "      <td>0.258147</td>\n",
              "      <td>0.742961</td>\n",
              "      <td>0.149801</td>\n",
              "      <td>0.584343</td>\n",
              "    </tr>\n",
              "    <tr>\n",
              "      <th>...</th>\n",
              "      <td>...</td>\n",
              "      <td>...</td>\n",
              "      <td>...</td>\n",
              "      <td>...</td>\n",
              "      <td>...</td>\n",
              "    </tr>\n",
              "    <tr>\n",
              "      <th>Xp Investor 30 FIC FIA</th>\n",
              "      <td>0.018276</td>\n",
              "      <td>0.290124</td>\n",
              "      <td>0.454323</td>\n",
              "      <td>0.098672</td>\n",
              "      <td>0.343705</td>\n",
              "    </tr>\n",
              "    <tr>\n",
              "      <th>Xp Investor Dividendos 30 Fc FIA</th>\n",
              "      <td>0.016023</td>\n",
              "      <td>0.254352</td>\n",
              "      <td>0.267383</td>\n",
              "      <td>0.061342</td>\n",
              "      <td>0.245279</td>\n",
              "    </tr>\n",
              "    <tr>\n",
              "      <th>Xp Investor Dividendos FIA</th>\n",
              "      <td>0.016401</td>\n",
              "      <td>0.260364</td>\n",
              "      <td>0.279970</td>\n",
              "      <td>0.063980</td>\n",
              "      <td>0.249749</td>\n",
              "    </tr>\n",
              "    <tr>\n",
              "      <th>Xp Investor FIA</th>\n",
              "      <td>0.018657</td>\n",
              "      <td>0.296167</td>\n",
              "      <td>0.481407</td>\n",
              "      <td>0.103777</td>\n",
              "      <td>0.353929</td>\n",
              "    </tr>\n",
              "    <tr>\n",
              "      <th>Zenith Hayp FIA</th>\n",
              "      <td>0.025590</td>\n",
              "      <td>0.406230</td>\n",
              "      <td>0.349805</td>\n",
              "      <td>0.078276</td>\n",
              "      <td>0.195264</td>\n",
              "    </tr>\n",
              "  </tbody>\n",
              "</table>\n",
              "<p>219 rows × 5 columns</p>\n",
              "</div>"
            ],
            "text/plain": [
              "                                       std  annualized_std  cumulative_ret  \\\n",
              "Name                                                                         \n",
              "4um Marlin Dividendos FIA         0.014108        0.223965        0.419053   \n",
              "4um Small Caps FIA                0.014502        0.230216        0.694548   \n",
              "ARX Income Fc FIA                 0.017103        0.271496        0.657495   \n",
              "ARX Long Term Fc FIA              0.017922        0.284511        0.266135   \n",
              "Af Invest Minas FIA               0.016262        0.258147        0.742961   \n",
              "...                                    ...             ...             ...   \n",
              "Xp Investor 30 FIC FIA            0.018276        0.290124        0.454323   \n",
              "Xp Investor Dividendos 30 Fc FIA  0.016023        0.254352        0.267383   \n",
              "Xp Investor Dividendos FIA        0.016401        0.260364        0.279970   \n",
              "Xp Investor FIA                   0.018657        0.296167        0.481407   \n",
              "Zenith Hayp FIA                   0.025590        0.406230        0.349805   \n",
              "\n",
              "                                  annualized_ret    Sharpe  \n",
              "Name                                                        \n",
              "4um Marlin Dividendos FIA               0.091916  0.415070  \n",
              "4um Small Caps FIA                      0.141692  0.620017  \n",
              "ARX Income Fc FIA                       0.135368  0.502450  \n",
              "ARX Long Term Fc FIA                    0.061079  0.218356  \n",
              "Af Invest Minas FIA                     0.149801  0.584343  \n",
              "...                                          ...       ...  \n",
              "Xp Investor 30 FIC FIA                  0.098672  0.343705  \n",
              "Xp Investor Dividendos 30 Fc FIA        0.061342  0.245279  \n",
              "Xp Investor Dividendos FIA              0.063980  0.249749  \n",
              "Xp Investor FIA                         0.103777  0.353929  \n",
              "Zenith Hayp FIA                         0.078276  0.195264  \n",
              "\n",
              "[219 rows x 5 columns]"
            ]
          },
          "execution_count": 36,
          "metadata": {},
          "output_type": "execute_result"
        }
      ],
      "source": [
        "fin_metrics.metrics_data"
      ]
    },
    {
      "cell_type": "markdown",
      "metadata": {
        "id": "kr3hPjFfq1MJ"
      },
      "source": [
        "Por fim, no exemplo abaixo, vamos estimar os alfas e betas dos fundos, usando como base os dados do IBOV e da taxa livre de risco obtidos anteriormente, com parâmetros estimados via OLS (ordinary Least Squares), e num conjunto restrito de fundos (apenas o top 10% de melhor desempenho no período considerado)"
      ]
    },
    {
      "cell_type": "code",
      "execution_count": 100,
      "metadata": {},
      "outputs": [],
      "source": [
        "from math import floor\n",
        "\n",
        "funds_to_estimate = funds_to_plot.iloc[:floor(.1 * len(funds_to_plot))].index.values"
      ]
    },
    {
      "cell_type": "code",
      "execution_count": 101,
      "metadata": {
        "colab": {
          "base_uri": "https://localhost:8080/"
        },
        "id": "LfvTUbsnq4t7",
        "outputId": "890a4e2a-8be2-4e6a-d002-1bc5e54b83d1"
      },
      "outputs": [
        {
          "name": "stderr",
          "output_type": "stream",
          "text": [
            "/home/marcel/outros/ckrepo/analyzeBRfunds/metrics/FinancialMetrics.py:123: SettingWithCopyWarning: \n",
            "A value is trying to be set on a copy of a slice from a DataFrame.\n",
            "Try using .loc[row_indexer,col_indexer] = value instead\n",
            "\n",
            "See the caveats in the documentation: https://pandas.pydata.org/pandas-docs/stable/user_guide/indexing.html#returning-a-view-versus-a-copy\n",
            "  data_factors[\"Market\"] = data_factors[\"IBOV\"] - data_factors[\"Risk_free\"]\n"
          ]
        },
        {
          "data": {
            "text/html": [
              "<div>\n",
              "<style scoped>\n",
              "    .dataframe tbody tr th:only-of-type {\n",
              "        vertical-align: middle;\n",
              "    }\n",
              "\n",
              "    .dataframe tbody tr th {\n",
              "        vertical-align: top;\n",
              "    }\n",
              "\n",
              "    .dataframe thead th {\n",
              "        text-align: right;\n",
              "    }\n",
              "</style>\n",
              "<table border=\"1\" class=\"dataframe\">\n",
              "  <thead>\n",
              "    <tr style=\"text-align: right;\">\n",
              "      <th></th>\n",
              "      <th>Fund</th>\n",
              "      <th>Alpha</th>\n",
              "      <th>Beta</th>\n",
              "      <th>R_squared</th>\n",
              "      <th>Pvalue</th>\n",
              "    </tr>\n",
              "  </thead>\n",
              "  <tbody>\n",
              "    <tr>\n",
              "      <th>0</th>\n",
              "      <td>Arbor Global Eq Brl FIC FIA Bdr Nivel I</td>\n",
              "      <td>0.000967</td>\n",
              "      <td>0.675349</td>\n",
              "      <td>0.494865</td>\n",
              "      <td>1.286761e-150</td>\n",
              "    </tr>\n",
              "    <tr>\n",
              "      <th>1</th>\n",
              "      <td>Western Asset FIA Bdr Nivel I</td>\n",
              "      <td>0.000896</td>\n",
              "      <td>0.364095</td>\n",
              "      <td>0.229778</td>\n",
              "      <td>9.348881e-59</td>\n",
              "    </tr>\n",
              "    <tr>\n",
              "      <th>2</th>\n",
              "      <td>Safra Consumo Americano FIA Bdr Nivel I</td>\n",
              "      <td>0.000843</td>\n",
              "      <td>0.404635</td>\n",
              "      <td>0.273407</td>\n",
              "      <td>1.812243e-71</td>\n",
              "    </tr>\n",
              "    <tr>\n",
              "      <th>3</th>\n",
              "      <td>Caixa FIA Institucional Bdr Nivel I</td>\n",
              "      <td>0.000836</td>\n",
              "      <td>0.337750</td>\n",
              "      <td>0.197010</td>\n",
              "      <td>1.148173e-49</td>\n",
              "    </tr>\n",
              "    <tr>\n",
              "      <th>4</th>\n",
              "      <td>Safra Consumo Americano Fc FIA Bdr Nivel</td>\n",
              "      <td>0.000801</td>\n",
              "      <td>0.404398</td>\n",
              "      <td>0.273371</td>\n",
              "      <td>1.858222e-71</td>\n",
              "    </tr>\n",
              "    <tr>\n",
              "      <th>5</th>\n",
              "      <td>Caixa FIA Bdr Nivel I</td>\n",
              "      <td>0.000799</td>\n",
              "      <td>0.336666</td>\n",
              "      <td>0.197359</td>\n",
              "      <td>9.231526e-50</td>\n",
              "    </tr>\n",
              "    <tr>\n",
              "      <th>6</th>\n",
              "      <td>Safra FIA Bdr Nivel I Pb</td>\n",
              "      <td>0.000756</td>\n",
              "      <td>0.417324</td>\n",
              "      <td>0.296037</td>\n",
              "      <td>2.310105e-78</td>\n",
              "    </tr>\n",
              "    <tr>\n",
              "      <th>7</th>\n",
              "      <td>BB Acoes Esg Globais Fc FIA -Bdr Nivel I</td>\n",
              "      <td>0.000763</td>\n",
              "      <td>0.326745</td>\n",
              "      <td>0.186289</td>\n",
              "      <td>9.017942e-47</td>\n",
              "    </tr>\n",
              "    <tr>\n",
              "      <th>8</th>\n",
              "      <td>Csn Invest Fdo de Investimento em Acoes</td>\n",
              "      <td>0.000932</td>\n",
              "      <td>1.023620</td>\n",
              "      <td>0.482162</td>\n",
              "      <td>3.262982e-145</td>\n",
              "    </tr>\n",
              "    <tr>\n",
              "      <th>9</th>\n",
              "      <td>Safra Fc FIA Bdr Nivel I</td>\n",
              "      <td>0.000713</td>\n",
              "      <td>0.417036</td>\n",
              "      <td>0.296090</td>\n",
              "      <td>2.224917e-78</td>\n",
              "    </tr>\n",
              "    <tr>\n",
              "      <th>10</th>\n",
              "      <td>Bradesco FICFIA Bdr Nivel I</td>\n",
              "      <td>0.000714</td>\n",
              "      <td>0.338419</td>\n",
              "      <td>0.204516</td>\n",
              "      <td>1.024536e-51</td>\n",
              "    </tr>\n",
              "    <tr>\n",
              "      <th>11</th>\n",
              "      <td>Organon FIC FIA</td>\n",
              "      <td>0.000708</td>\n",
              "      <td>0.766844</td>\n",
              "      <td>0.657144</td>\n",
              "      <td>6.545559e-235</td>\n",
              "    </tr>\n",
              "    <tr>\n",
              "      <th>12</th>\n",
              "      <td>Clic FIA</td>\n",
              "      <td>0.000661</td>\n",
              "      <td>0.912641</td>\n",
              "      <td>0.720258</td>\n",
              "      <td>3.759696e-279</td>\n",
              "    </tr>\n",
              "    <tr>\n",
              "      <th>13</th>\n",
              "      <td>Tarpon Gt Fc FIA</td>\n",
              "      <td>0.000602</td>\n",
              "      <td>0.735457</td>\n",
              "      <td>0.727181</td>\n",
              "      <td>1.336855e-284</td>\n",
              "    </tr>\n",
              "    <tr>\n",
              "      <th>14</th>\n",
              "      <td>Charles River FIA</td>\n",
              "      <td>0.000580</td>\n",
              "      <td>0.721840</td>\n",
              "      <td>0.736437</td>\n",
              "      <td>4.174232e-292</td>\n",
              "    </tr>\n",
              "    <tr>\n",
              "      <th>15</th>\n",
              "      <td>Sul America Selection FIA</td>\n",
              "      <td>0.000643</td>\n",
              "      <td>0.983636</td>\n",
              "      <td>0.791250</td>\n",
              "      <td>0.000000e+00</td>\n",
              "    </tr>\n",
              "    <tr>\n",
              "      <th>16</th>\n",
              "      <td>E2m Intrust FIA</td>\n",
              "      <td>0.000572</td>\n",
              "      <td>0.682716</td>\n",
              "      <td>0.717236</td>\n",
              "      <td>8.149236e-277</td>\n",
              "    </tr>\n",
              "    <tr>\n",
              "      <th>17</th>\n",
              "      <td>Itau Acoes Bdr Nivel I Fc</td>\n",
              "      <td>0.000622</td>\n",
              "      <td>0.349903</td>\n",
              "      <td>0.196385</td>\n",
              "      <td>1.698146e-49</td>\n",
              "    </tr>\n",
              "    <tr>\n",
              "      <th>18</th>\n",
              "      <td>Pilotis FIA</td>\n",
              "      <td>0.000541</td>\n",
              "      <td>0.480478</td>\n",
              "      <td>0.631839</td>\n",
              "      <td>2.008052e-219</td>\n",
              "    </tr>\n",
              "    <tr>\n",
              "      <th>19</th>\n",
              "      <td>Guepardo Allocation Fc FIA</td>\n",
              "      <td>0.000581</td>\n",
              "      <td>0.924269</td>\n",
              "      <td>0.823986</td>\n",
              "      <td>0.000000e+00</td>\n",
              "    </tr>\n",
              "    <tr>\n",
              "      <th>20</th>\n",
              "      <td>Guepardo Institucional FIC FIA</td>\n",
              "      <td>0.000527</td>\n",
              "      <td>0.926949</td>\n",
              "      <td>0.828726</td>\n",
              "      <td>0.000000e+00</td>\n",
              "    </tr>\n",
              "  </tbody>\n",
              "</table>\n",
              "</div>"
            ],
            "text/plain": [
              "                                        Fund     Alpha      Beta  R_squared  \\\n",
              "0    Arbor Global Eq Brl FIC FIA Bdr Nivel I  0.000967  0.675349   0.494865   \n",
              "1              Western Asset FIA Bdr Nivel I  0.000896  0.364095   0.229778   \n",
              "2    Safra Consumo Americano FIA Bdr Nivel I  0.000843  0.404635   0.273407   \n",
              "3        Caixa FIA Institucional Bdr Nivel I  0.000836  0.337750   0.197010   \n",
              "4   Safra Consumo Americano Fc FIA Bdr Nivel  0.000801  0.404398   0.273371   \n",
              "5                      Caixa FIA Bdr Nivel I  0.000799  0.336666   0.197359   \n",
              "6                   Safra FIA Bdr Nivel I Pb  0.000756  0.417324   0.296037   \n",
              "7   BB Acoes Esg Globais Fc FIA -Bdr Nivel I  0.000763  0.326745   0.186289   \n",
              "8    Csn Invest Fdo de Investimento em Acoes  0.000932  1.023620   0.482162   \n",
              "9                   Safra Fc FIA Bdr Nivel I  0.000713  0.417036   0.296090   \n",
              "10               Bradesco FICFIA Bdr Nivel I  0.000714  0.338419   0.204516   \n",
              "11                           Organon FIC FIA  0.000708  0.766844   0.657144   \n",
              "12                                  Clic FIA  0.000661  0.912641   0.720258   \n",
              "13                          Tarpon Gt Fc FIA  0.000602  0.735457   0.727181   \n",
              "14                         Charles River FIA  0.000580  0.721840   0.736437   \n",
              "15                 Sul America Selection FIA  0.000643  0.983636   0.791250   \n",
              "16                           E2m Intrust FIA  0.000572  0.682716   0.717236   \n",
              "17                 Itau Acoes Bdr Nivel I Fc  0.000622  0.349903   0.196385   \n",
              "18                               Pilotis FIA  0.000541  0.480478   0.631839   \n",
              "19                Guepardo Allocation Fc FIA  0.000581  0.924269   0.823986   \n",
              "20            Guepardo Institucional FIC FIA  0.000527  0.926949   0.828726   \n",
              "\n",
              "           Pvalue  \n",
              "0   1.286761e-150  \n",
              "1    9.348881e-59  \n",
              "2    1.812243e-71  \n",
              "3    1.148173e-49  \n",
              "4    1.858222e-71  \n",
              "5    9.231526e-50  \n",
              "6    2.310105e-78  \n",
              "7    9.017942e-47  \n",
              "8   3.262982e-145  \n",
              "9    2.224917e-78  \n",
              "10   1.024536e-51  \n",
              "11  6.545559e-235  \n",
              "12  3.759696e-279  \n",
              "13  1.336855e-284  \n",
              "14  4.174232e-292  \n",
              "15   0.000000e+00  \n",
              "16  8.149236e-277  \n",
              "17   1.698146e-49  \n",
              "18  2.008052e-219  \n",
              "19   0.000000e+00  \n",
              "20   0.000000e+00  "
            ]
          },
          "execution_count": 101,
          "metadata": {},
          "output_type": "execute_result"
        }
      ],
      "source": [
        "fin_metrics.estimate_factors(selected=list(funds_to_estimate))"
      ]
    }
  ],
  "metadata": {
    "colab": {
      "collapsed_sections": [],
      "name": "Tutorial de uso.ipynb",
      "provenance": []
    },
    "kernelspec": {
      "display_name": "Python 3",
      "name": "python3"
    },
    "language_info": {
      "codemirror_mode": {
        "name": "ipython",
        "version": 3
      },
      "file_extension": ".py",
      "mimetype": "text/x-python",
      "name": "python",
      "nbconvert_exporter": "python",
      "pygments_lexer": "ipython3",
      "version": "3.9.7"
    }
  },
  "nbformat": 4,
  "nbformat_minor": 0
}
